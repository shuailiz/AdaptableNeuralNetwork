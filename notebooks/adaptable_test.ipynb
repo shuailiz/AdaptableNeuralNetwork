{
 "cells": [
  {
   "cell_type": "code",
   "execution_count": 1,
   "id": "07c33127",
   "metadata": {},
   "outputs": [],
   "source": [
    "import torch\n",
    "import torchvision\n",
    "\n",
    "# extra modeling and data reading tools from pytorch\n",
    "from torch import nn\n",
    "\n",
    "from adaptable_neural_network.simple_cnn_adaptable import SimpleCNNAdaptable\n",
    "from adaptable_neural_network.simple_cnn_adaptation import SimpleCNNAdaptation\n",
    "\n",
    "import numpy as np"
   ]
  },
  {
   "cell_type": "code",
   "execution_count": 2,
   "id": "1a26f9e8",
   "metadata": {},
   "outputs": [
    {
     "ename": "RuntimeError",
     "evalue": "[enforce fail at alloc_cpu.cpp:75] err == 0. DefaultCPUAllocator: can't allocate memory: you tried to allocate 3240000000000 bytes. Error code 12 (Cannot allocate memory)",
     "output_type": "error",
     "traceback": [
      "\u001b[0;31m---------------------------------------------------------------------------\u001b[0m",
      "\u001b[0;31mRuntimeError\u001b[0m                              Traceback (most recent call last)",
      "\u001b[0;32m/tmp/ipykernel_8879/3906002759.py\u001b[0m in \u001b[0;36m<module>\u001b[0;34m\u001b[0m\n\u001b[1;32m      1\u001b[0m \u001b[0mcnn_adaptable\u001b[0m \u001b[0;34m=\u001b[0m \u001b[0mSimpleCNNAdaptable\u001b[0m\u001b[0;34m(\u001b[0m\u001b[0;36m2\u001b[0m\u001b[0;34m)\u001b[0m\u001b[0;34m\u001b[0m\u001b[0;34m\u001b[0m\u001b[0m\n\u001b[0;32m----> 2\u001b[0;31m \u001b[0mcnn_adaptation\u001b[0m \u001b[0;34m=\u001b[0m \u001b[0mSimpleCNNAdaptation\u001b[0m\u001b[0;34m(\u001b[0m\u001b[0;36m130\u001b[0m\u001b[0;34m)\u001b[0m\u001b[0;34m\u001b[0m\u001b[0;34m\u001b[0m\u001b[0m\n\u001b[0m",
      "\u001b[0;32m~/non_ros_ws/src/AdaptableNeuralNetwork/src/adaptable_neural_network/simple_cnn_adaptation.py\u001b[0m in \u001b[0;36m__init__\u001b[0;34m(self, num_input_dim)\u001b[0m\n\u001b[1;32m     12\u001b[0m         \u001b[0mself\u001b[0m\u001b[0;34m.\u001b[0m\u001b[0mfc1\u001b[0m \u001b[0;34m=\u001b[0m \u001b[0mnn\u001b[0m\u001b[0;34m.\u001b[0m\u001b[0mLinear\u001b[0m\u001b[0;34m(\u001b[0m\u001b[0min_features\u001b[0m\u001b[0;34m=\u001b[0m\u001b[0mnum_input_dim\u001b[0m\u001b[0;34m,\u001b[0m \u001b[0mout_features\u001b[0m\u001b[0;34m=\u001b[0m\u001b[0;36m300\u001b[0m\u001b[0;34m*\u001b[0m\u001b[0;36m300\u001b[0m\u001b[0;34m)\u001b[0m\u001b[0;34m\u001b[0m\u001b[0;34m\u001b[0m\u001b[0m\n\u001b[1;32m     13\u001b[0m         \u001b[0mself\u001b[0m\u001b[0;34m.\u001b[0m\u001b[0mrelu1\u001b[0m \u001b[0;34m=\u001b[0m \u001b[0mnn\u001b[0m\u001b[0;34m.\u001b[0m\u001b[0mReLU\u001b[0m\u001b[0;34m(\u001b[0m\u001b[0;34m)\u001b[0m\u001b[0;34m\u001b[0m\u001b[0;34m\u001b[0m\u001b[0m\n\u001b[0;32m---> 14\u001b[0;31m         \u001b[0mself\u001b[0m\u001b[0;34m.\u001b[0m\u001b[0mfc2\u001b[0m \u001b[0;34m=\u001b[0m \u001b[0mnn\u001b[0m\u001b[0;34m.\u001b[0m\u001b[0mLinear\u001b[0m\u001b[0;34m(\u001b[0m\u001b[0min_features\u001b[0m\u001b[0;34m=\u001b[0m\u001b[0;36m300\u001b[0m\u001b[0;34m*\u001b[0m\u001b[0;36m300\u001b[0m\u001b[0;34m,\u001b[0m \u001b[0mout_features\u001b[0m\u001b[0;34m=\u001b[0m\u001b[0;36m3000\u001b[0m\u001b[0;34m*\u001b[0m\u001b[0;36m3000\u001b[0m\u001b[0;34m)\u001b[0m\u001b[0;34m\u001b[0m\u001b[0;34m\u001b[0m\u001b[0m\n\u001b[0m\u001b[1;32m     15\u001b[0m \u001b[0;34m\u001b[0m\u001b[0m\n\u001b[1;32m     16\u001b[0m     \u001b[0;32mdef\u001b[0m \u001b[0mforward\u001b[0m\u001b[0;34m(\u001b[0m\u001b[0mself\u001b[0m\u001b[0;34m,\u001b[0m \u001b[0mx\u001b[0m\u001b[0;34m,\u001b[0m \u001b[0mprediction\u001b[0m\u001b[0;34m)\u001b[0m\u001b[0;34m:\u001b[0m\u001b[0;34m\u001b[0m\u001b[0;34m\u001b[0m\u001b[0m\n",
      "\u001b[0;32m~/.pyenv/versions/3.7.5/lib/python3.7/site-packages/torch/nn/modules/linear.py\u001b[0m in \u001b[0;36m__init__\u001b[0;34m(self, in_features, out_features, bias, device, dtype)\u001b[0m\n\u001b[1;32m     94\u001b[0m         \u001b[0mself\u001b[0m\u001b[0;34m.\u001b[0m\u001b[0min_features\u001b[0m \u001b[0;34m=\u001b[0m \u001b[0min_features\u001b[0m\u001b[0;34m\u001b[0m\u001b[0;34m\u001b[0m\u001b[0m\n\u001b[1;32m     95\u001b[0m         \u001b[0mself\u001b[0m\u001b[0;34m.\u001b[0m\u001b[0mout_features\u001b[0m \u001b[0;34m=\u001b[0m \u001b[0mout_features\u001b[0m\u001b[0;34m\u001b[0m\u001b[0;34m\u001b[0m\u001b[0m\n\u001b[0;32m---> 96\u001b[0;31m         \u001b[0mself\u001b[0m\u001b[0;34m.\u001b[0m\u001b[0mweight\u001b[0m \u001b[0;34m=\u001b[0m \u001b[0mParameter\u001b[0m\u001b[0;34m(\u001b[0m\u001b[0mtorch\u001b[0m\u001b[0;34m.\u001b[0m\u001b[0mempty\u001b[0m\u001b[0;34m(\u001b[0m\u001b[0;34m(\u001b[0m\u001b[0mout_features\u001b[0m\u001b[0;34m,\u001b[0m \u001b[0min_features\u001b[0m\u001b[0;34m)\u001b[0m\u001b[0;34m,\u001b[0m \u001b[0;34m**\u001b[0m\u001b[0mfactory_kwargs\u001b[0m\u001b[0;34m)\u001b[0m\u001b[0;34m)\u001b[0m\u001b[0;34m\u001b[0m\u001b[0;34m\u001b[0m\u001b[0m\n\u001b[0m\u001b[1;32m     97\u001b[0m         \u001b[0;32mif\u001b[0m \u001b[0mbias\u001b[0m\u001b[0;34m:\u001b[0m\u001b[0;34m\u001b[0m\u001b[0;34m\u001b[0m\u001b[0m\n\u001b[1;32m     98\u001b[0m             \u001b[0mself\u001b[0m\u001b[0;34m.\u001b[0m\u001b[0mbias\u001b[0m \u001b[0;34m=\u001b[0m \u001b[0mParameter\u001b[0m\u001b[0;34m(\u001b[0m\u001b[0mtorch\u001b[0m\u001b[0;34m.\u001b[0m\u001b[0mempty\u001b[0m\u001b[0;34m(\u001b[0m\u001b[0mout_features\u001b[0m\u001b[0;34m,\u001b[0m \u001b[0;34m**\u001b[0m\u001b[0mfactory_kwargs\u001b[0m\u001b[0;34m)\u001b[0m\u001b[0;34m)\u001b[0m\u001b[0;34m\u001b[0m\u001b[0;34m\u001b[0m\u001b[0m\n",
      "\u001b[0;31mRuntimeError\u001b[0m: [enforce fail at alloc_cpu.cpp:75] err == 0. DefaultCPUAllocator: can't allocate memory: you tried to allocate 3240000000000 bytes. Error code 12 (Cannot allocate memory)"
     ]
    }
   ],
   "source": [
    "cnn_adaptable = SimpleCNNAdaptable(2)\n",
    "cnn_adaptation = SimpleCNNAdaptation(130)"
   ]
  },
  {
   "cell_type": "code",
   "execution_count": 5,
   "id": "8fe1cd2a",
   "metadata": {},
   "outputs": [
    {
     "data": {
      "text/plain": [
       "torch.Size([128, 32768])"
      ]
     },
     "execution_count": 5,
     "metadata": {},
     "output_type": "execute_result"
    }
   ],
   "source": [
    "cnn_adaptable.fc1.weight.shape"
   ]
  },
  {
   "cell_type": "code",
   "execution_count": 20,
   "id": "0229d265",
   "metadata": {},
   "outputs": [
    {
     "name": "stdout",
     "output_type": "stream",
     "text": [
      "linear.weight tensor([[ 0.0848, -0.0041, -0.1173, -0.2093, -0.0049,  0.0530,  0.1583,  0.0072,\n",
      "         -0.0249, -0.0992],\n",
      "        [ 0.0848, -0.0041, -0.1173, -0.2093, -0.0049,  0.0530,  0.1583,  0.0072,\n",
      "         -0.0249, -0.0992],\n",
      "        [ 0.0848, -0.0041, -0.1173, -0.2093, -0.0049,  0.0530,  0.1583,  0.0072,\n",
      "         -0.0249, -0.0992],\n",
      "        [ 0.0848, -0.0041, -0.1173, -0.2093, -0.0049,  0.0530,  0.1583,  0.0072,\n",
      "         -0.0249, -0.0992],\n",
      "        [ 0.0848, -0.0041, -0.1173, -0.2093, -0.0049,  0.0530,  0.1583,  0.0072,\n",
      "         -0.0249, -0.0992],\n",
      "        [ 0.0848, -0.0041, -0.1173, -0.2093, -0.0049,  0.0530,  0.1583,  0.0072,\n",
      "         -0.0249, -0.0992],\n",
      "        [ 0.0848, -0.0041, -0.1173, -0.2093, -0.0049,  0.0530,  0.1583,  0.0072,\n",
      "         -0.0249, -0.0992],\n",
      "        [ 0.0848, -0.0041, -0.1173, -0.2093, -0.0049,  0.0530,  0.1583,  0.0072,\n",
      "         -0.0249, -0.0992],\n",
      "        [ 0.0848, -0.0041, -0.1173, -0.2093, -0.0049,  0.0530,  0.1583,  0.0072,\n",
      "         -0.0249, -0.0992],\n",
      "        [ 0.0848, -0.0041, -0.1173, -0.2093, -0.0049,  0.0530,  0.1583,  0.0072,\n",
      "         -0.0249, -0.0992]])\n",
      "linear.bias tensor([0.1000, 0.1000, 0.1000, 0.1000, 0.1000, 0.1000, 0.1000, 0.1000, 0.1000,\n",
      "        0.1000])\n",
      "tensor([[-0.0085,  0.0004,  0.0117,  0.0209,  0.0005, -0.0053, -0.0158, -0.0007,\n",
      "          0.0025,  0.0099],\n",
      "        [-0.0085,  0.0004,  0.0117,  0.0209,  0.0005, -0.0053, -0.0158, -0.0007,\n",
      "          0.0025,  0.0099],\n",
      "        [-0.0085,  0.0004,  0.0117,  0.0209,  0.0005, -0.0053, -0.0158, -0.0007,\n",
      "          0.0025,  0.0099],\n",
      "        [-0.0085,  0.0004,  0.0117,  0.0209,  0.0005, -0.0053, -0.0158, -0.0007,\n",
      "          0.0025,  0.0099],\n",
      "        [-0.0085,  0.0004,  0.0117,  0.0209,  0.0005, -0.0053, -0.0158, -0.0007,\n",
      "          0.0025,  0.0099],\n",
      "        [-0.0085,  0.0004,  0.0117,  0.0209,  0.0005, -0.0053, -0.0158, -0.0007,\n",
      "          0.0025,  0.0099],\n",
      "        [-0.0085,  0.0004,  0.0117,  0.0209,  0.0005, -0.0053, -0.0158, -0.0007,\n",
      "          0.0025,  0.0099],\n",
      "        [-0.0085,  0.0004,  0.0117,  0.0209,  0.0005, -0.0053, -0.0158, -0.0007,\n",
      "          0.0025,  0.0099],\n",
      "        [-0.0085,  0.0004,  0.0117,  0.0209,  0.0005, -0.0053, -0.0158, -0.0007,\n",
      "          0.0025,  0.0099],\n",
      "        [-0.0085,  0.0004,  0.0117,  0.0209,  0.0005, -0.0053, -0.0158, -0.0007,\n",
      "          0.0025,  0.0099]], grad_fn=<SubBackward0>)\n"
     ]
    }
   ],
   "source": [
    "class MyModule(nn.Module):\n",
    "    def __init__(self, weights):\n",
    "        super(MyModule, self).__init__()\n",
    "\n",
    "        self.linear = nn.Linear(weights.shape[1], weights.shape[0])\n",
    "        with torch.no_grad():\n",
    "            self.linear.weight.copy_(weights)\n",
    "        \n",
    "    def forward(self, x):\n",
    "        x = self.linear(x)\n",
    "        return x\n",
    "\n",
    "sampled_weights = np.random.random((10, 10))\n",
    "weights = torch.from_numpy(sampled_weights)\n",
    "#weights = torch.randn(10, 10)\n",
    "model = MyModule(weights)\n",
    "optimizer = torch.optim.SGD(model.parameters(), lr=1e-1)\n",
    "\n",
    "out = model(torch.randn(1, 10))\n",
    "out.mean().backward()\n",
    "\n",
    "for name, param in model.named_parameters():\n",
    "    print(name, param.grad)\n",
    "\n",
    "w0 = model.linear.weight.clone()\n",
    "optimizer.step()\n",
    "w1 = model.linear.weight.clone()\n",
    "print(w1 - w0)"
   ]
  },
  {
   "cell_type": "code",
   "execution_count": 28,
   "id": "e504db2c",
   "metadata": {},
   "outputs": [
    {
     "name": "stdout",
     "output_type": "stream",
     "text": [
      "tensor([[-0.0085,  0.0004,  0.0117,  0.0209,  0.0005, -0.0053, -0.0158, -0.0007,\n",
      "          0.0025,  0.0099],\n",
      "        [-0.0085,  0.0004,  0.0117,  0.0209,  0.0005, -0.0053, -0.0158, -0.0007,\n",
      "          0.0025,  0.0099],\n",
      "        [-0.0085,  0.0004,  0.0117,  0.0209,  0.0005, -0.0053, -0.0158, -0.0007,\n",
      "          0.0025,  0.0099],\n",
      "        [-0.0085,  0.0004,  0.0117,  0.0209,  0.0005, -0.0053, -0.0158, -0.0007,\n",
      "          0.0025,  0.0099],\n",
      "        [-0.0085,  0.0004,  0.0117,  0.0209,  0.0005, -0.0053, -0.0158, -0.0007,\n",
      "          0.0025,  0.0099],\n",
      "        [-0.0085,  0.0004,  0.0117,  0.0209,  0.0005, -0.0053, -0.0158, -0.0007,\n",
      "          0.0025,  0.0099],\n",
      "        [-0.0085,  0.0004,  0.0117,  0.0209,  0.0005, -0.0053, -0.0158, -0.0007,\n",
      "          0.0025,  0.0099],\n",
      "        [-0.0085,  0.0004,  0.0117,  0.0209,  0.0005, -0.0053, -0.0158, -0.0007,\n",
      "          0.0025,  0.0099],\n",
      "        [-0.0085,  0.0004,  0.0117,  0.0209,  0.0005, -0.0053, -0.0158, -0.0007,\n",
      "          0.0025,  0.0099],\n",
      "        [-0.0085,  0.0004,  0.0117,  0.0209,  0.0005, -0.0053, -0.0158, -0.0007,\n",
      "          0.0025,  0.0099]], grad_fn=<SubBackward0>)\n"
     ]
    }
   ],
   "source": [
    "optimizer.step()\n",
    "w2 = model.linear.weight.clone()\n",
    "print(w2 - w1)"
   ]
  }
 ],
 "metadata": {
  "kernelspec": {
   "display_name": "Python 3 (ipykernel)",
   "language": "python",
   "name": "python3"
  },
  "language_info": {
   "codemirror_mode": {
    "name": "ipython",
    "version": 3
   },
   "file_extension": ".py",
   "mimetype": "text/x-python",
   "name": "python",
   "nbconvert_exporter": "python",
   "pygments_lexer": "ipython3",
   "version": "3.7.5"
  }
 },
 "nbformat": 4,
 "nbformat_minor": 5
}
